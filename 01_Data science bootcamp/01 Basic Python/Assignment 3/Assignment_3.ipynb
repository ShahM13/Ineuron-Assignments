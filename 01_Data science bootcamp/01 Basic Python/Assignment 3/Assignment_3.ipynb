{
 "cells": [
  {
   "cell_type": "markdown",
   "id": "a101b2b2",
   "metadata": {},
   "source": [
    "1. Why are functions advantageous to have in your programs?\n",
    "\n",
    "**Answer-->**\n",
    "- Functions reduce the need for duplicate code. This makes programs shorter, easier to read, and easier to update.  The main advantage of functions is code Reusability.\n",
    "\n",
    "- Increases program readability.\n",
    "- Divide a complex problem into simpler ones.\n",
    "\n",
    "- Reduces chances of error.\n",
    "\n",
    "- Modifying a program becomes easier by using function"
   ]
  },
  {
   "cell_type": "markdown",
   "id": "33f5a7b9",
   "metadata": {},
   "source": [
    "2. When does the code in a function run: when it's specified or when it's called?\n",
    "\n",
    "**Answer-->**\n",
    "\n",
    "The code in a function executes when the function is called, not when\n",
    "the function is defined."
   ]
  },
  {
   "cell_type": "markdown",
   "id": "41b82a93",
   "metadata": {},
   "source": [
    "3. What statement creates a function?\n",
    "\n",
    "**Answer-->**\n",
    "\n",
    "The **def** statement defines i.e creates a function\n",
    "\n",
    "**Syntax of Function:**\n",
    "def function_name(parameters): \"\"\"doc string\"\"\" -----function body----- -----function body----- return value"
   ]
  },
  {
   "cell_type": "markdown",
   "id": "9bf178aa",
   "metadata": {},
   "source": [
    "4. What is the difference between a function and a function call?\n",
    "\n",
    "**Answer-->**\n",
    "\n",
    "- A **function** consists of the def statement and the code in its def clause.\n",
    "\n",
    "- A **function call** is what moves the program execution into the function, and the function call evaluates to the function’s return value."
   ]
  },
  {
   "cell_type": "code",
   "execution_count": 2,
   "id": "aeefd8e2",
   "metadata": {},
   "outputs": [
    {
     "data": {
      "text/plain": [
       "9"
      ]
     },
     "execution_count": 2,
     "metadata": {},
     "output_type": "execute_result"
    }
   ],
   "source": [
    "#Function\n",
    "def square(x):\n",
    "  \treturn x*x\n",
    "#Function Call\n",
    "(square(3))"
   ]
  },
  {
   "cell_type": "markdown",
   "id": "25893444",
   "metadata": {},
   "source": [
    "5. How many global scopes are there in a Python program? How many local scopes?\n",
    "\n",
    "**Answer-->**\n",
    "\n",
    "There is one global scope, and a local scope is created whenever a function\n",
    "is called.\n",
    "A variable created inside a function belongs to the local scope of that function, and can only be used inside that function whereas A variable created in the main body of the Python code is a global variable and belongs to the global scope."
   ]
  },
  {
   "cell_type": "code",
   "execution_count": 4,
   "id": "725b44fe",
   "metadata": {},
   "outputs": [
    {
     "name": "stdout",
     "output_type": "stream",
     "text": [
      "430\n"
     ]
    }
   ],
   "source": [
    "#Example of Local Scope\n",
    "def myfunc():\n",
    "  x = 430\n",
    "  def myinnerfunc():\n",
    "    print(x)\n",
    "  myinnerfunc()\n",
    "\n",
    "myfunc() "
   ]
  },
  {
   "cell_type": "code",
   "execution_count": 5,
   "id": "4c56db73",
   "metadata": {},
   "outputs": [
    {
     "name": "stdout",
     "output_type": "stream",
     "text": [
      "430\n",
      "430\n"
     ]
    }
   ],
   "source": [
    "#Example of Global Scope\n",
    "x = 430\n",
    "\n",
    "def myfunc():\n",
    "  print(x)\n",
    "\n",
    "myfunc()\n",
    "\n",
    "print(x) "
   ]
  },
  {
   "cell_type": "markdown",
   "id": "cfc6f972",
   "metadata": {},
   "source": [
    "6. What happens to variables in a local scope when the function call returns?\n",
    "\n",
    "**Answer-->**\n",
    "\n",
    "When a function returns, the local scope is destroyed, and all the variables in it are forgotten. A local variable becomes undefined after the function call completes."
   ]
  },
  {
   "cell_type": "markdown",
   "id": "cc682b06",
   "metadata": {},
   "source": [
    "7. What is the concept of a return value? Is it possible to have a return value in an expression?\n",
    "\n",
    "**Answer-->**\n",
    "\n",
    "A return value is the value that a function call evaluates to. Like any\n",
    "value, a return value can be used as part of an expression."
   ]
  },
  {
   "cell_type": "markdown",
   "id": "e999ec7e",
   "metadata": {},
   "source": [
    "8. If a function does not have a return statement, what is the return value of a call to that function?\n",
    "\n",
    "**Answer-->**\n",
    "\n",
    "If there is no return statement for a function, its return value is None. The function always returns None if explicit return is not written."
   ]
  },
  {
   "cell_type": "markdown",
   "id": "ca6fe8c5",
   "metadata": {},
   "source": [
    "9. How do you make a function variable refer to the global variable?\n",
    "\n",
    "**Answer-->**\n",
    "\n",
    "A global statement will force a variable in a function to refer to the global variable. If you want to refer to a global variable in a function, you can use the global keyword to declare which variables are global."
   ]
  },
  {
   "cell_type": "markdown",
   "id": "da393804",
   "metadata": {},
   "source": [
    "10. What is the data type of None?\n",
    "\n",
    "**Answer-->**\n",
    "\n",
    "The data type of None is NoneType."
   ]
  },
  {
   "cell_type": "markdown",
   "id": "ca9d0cb1",
   "metadata": {},
   "source": [
    "11. What does the sentence import areallyourpetsnamederic do?\n",
    "\n",
    "**Answer-->**\n",
    "\n",
    "That import statement imports a module named areallyourpetsnamederic.(This isn’t a real Python module, by the way.)"
   ]
  },
  {
   "cell_type": "markdown",
   "id": "808d5459",
   "metadata": {},
   "source": [
    "12. If you had a bacon() feature in a spam module, what would you call it after importing spam?\n",
    "\n",
    "**Answer-->**\n",
    "\n",
    "This function can be called with spam.bacon()"
   ]
  },
  {
   "cell_type": "markdown",
   "id": "31ba14ec",
   "metadata": {},
   "source": [
    "13. What can you do to save a programme from crashing if it encounters an error?\n",
    "\n",
    "**Answer-->**\n",
    "\n",
    "We can place the line of code that might cause an error in a try clause and use except block to handle the error as mentioned below:"
   ]
  },
  {
   "cell_type": "code",
   "execution_count": 7,
   "id": "89366967",
   "metadata": {},
   "outputs": [
    {
     "name": "stdout",
     "output_type": "stream",
     "text": [
      "430\n"
     ]
    }
   ],
   "source": [
    "try:\n",
    "  print(x)\n",
    "except:\n",
    "  print(\"An exception occurred\") "
   ]
  },
  {
   "cell_type": "markdown",
   "id": "43b49aac",
   "metadata": {},
   "source": [
    "14. What is the purpose of the try clause? What is the purpose of the except clause?\n",
    "\n",
    "**Answer-->**\n",
    "\n",
    "The code that could potentially cause an error goes in the try clause.\n",
    "The code that executes if an error happens goes in the except clause."
   ]
  },
  {
   "cell_type": "code",
   "execution_count": 10,
   "id": "84efc724",
   "metadata": {},
   "outputs": [
    {
     "name": "stdout",
     "output_type": "stream",
     "text": [
      "567\n"
     ]
    }
   ],
   "source": [
    "x = 567\n",
    "try:\n",
    "  print(x)\n",
    "except NameError:\n",
    "  print(\"Variable x is not defined\")\n",
    "except:\n",
    "  print(\"Something else went wrong\") "
   ]
  }
 ],
 "metadata": {
  "kernelspec": {
   "display_name": "Python 3 (ipykernel)",
   "language": "python",
   "name": "python3"
  },
  "language_info": {
   "codemirror_mode": {
    "name": "ipython",
    "version": 3
   },
   "file_extension": ".py",
   "mimetype": "text/x-python",
   "name": "python",
   "nbconvert_exporter": "python",
   "pygments_lexer": "ipython3",
   "version": "3.10.10"
  }
 },
 "nbformat": 4,
 "nbformat_minor": 5
}
