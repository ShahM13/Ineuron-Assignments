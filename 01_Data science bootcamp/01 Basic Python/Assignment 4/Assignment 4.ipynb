{
 "cells": [
  {
   "cell_type": "markdown",
   "id": "4d5f1911-82cc-47e7-9fc7-074a73ab8746",
   "metadata": {},
   "source": [
    "1. What exactly is []?"
   ]
  },
  {
   "cell_type": "markdown",
   "id": "3b9b7a6b-a01e-4c4f-b6a5-7b4457ef77c0",
   "metadata": {},
   "source": [
    "Answer --> The empty list value, which is a list value that contains no items. This is similar to how '' is the empty string value."
   ]
  },
  {
   "cell_type": "markdown",
   "id": "1095cac6-3ba3-4ca6-8642-835fca3d11da",
   "metadata": {},
   "source": [
    "2. In a list of values stored in a variable called spam, how would you assign the value 'hello' as the third value? (Assume [2, 4, 6, 8, 10] are in spam.)\n",
    "\n",
    "    Let's pretend the spam includes the list ['a', 'b', 'c', 'd'] for the next three queries."
   ]
  },
  {
   "cell_type": "code",
   "execution_count": 3,
   "id": "3b83fefe-e811-46d9-bd32-5ec86a77f539",
   "metadata": {},
   "outputs": [
    {
     "name": "stdout",
     "output_type": "stream",
     "text": [
      "[2, 4, 'hello', 8, 10]\n"
     ]
    }
   ],
   "source": [
    "spam = [2, 4, 6, 8, 10]            \n",
    "spam[2] = 'hello'         # NOtice that the 3rd value in the list is at index 2 because the first index is 0\n",
    "\n",
    "print(spam)"
   ]
  },
  {
   "cell_type": "markdown",
   "id": "85955ef8-23d5-4428-81fb-4f8b795f9a3f",
   "metadata": {},
   "source": [
    "3. What is the value of spam[int(int('3' * 2) / 11)]?"
   ]
  },
  {
   "cell_type": "code",
   "execution_count": 9,
   "id": "b661611f-2430-4e06-adf1-9f2530cc01da",
   "metadata": {},
   "outputs": [
    {
     "data": {
      "text/plain": [
       "'d'"
      ]
     },
     "execution_count": 9,
     "metadata": {},
     "output_type": "execute_result"
    }
   ],
   "source": [
    "spam = ['a', 'b', 'c', 'd']\n",
    "spam[int(int('3' * 2) / 11)]\n",
    "\n",
    "# 'd' (note that '3'*2 is the string '33'. which is passed to int() before being divided by 11. This eventually evaluates to 3. Expressions can be used wherever values are used."
   ]
  },
  {
   "cell_type": "markdown",
   "id": "9e837962-3127-4a58-812b-f70759e74008",
   "metadata": {},
   "source": [
    "4. What is the value of spam[-1]?"
   ]
  },
  {
   "cell_type": "code",
   "execution_count": 10,
   "id": "3bf6c844-a2d4-4b48-9e2b-dd0a4601447e",
   "metadata": {},
   "outputs": [
    {
     "data": {
      "text/plain": [
       "'d'"
      ]
     },
     "execution_count": 10,
     "metadata": {},
     "output_type": "execute_result"
    }
   ],
   "source": [
    "spam = ['a', 'b', 'c', 'd']\n",
    "spam[-1]              # Negative indexes count from the end."
   ]
  },
  {
   "cell_type": "markdown",
   "id": "6c7ea77a-db6b-4fd2-9804-a0c5011f8c08",
   "metadata": {},
   "source": [
    "5. What is the value of spam[:2]?\n",
    "\n",
    "   Let's pretend bacon has the list [3.14, 'cat,' 11, 'cat,' True] for the next three questions."
   ]
  },
  {
   "cell_type": "code",
   "execution_count": 12,
   "id": "02e6cad4-48c6-4c73-8eab-d2b6e7867c90",
   "metadata": {},
   "outputs": [
    {
     "data": {
      "text/plain": [
       "['a', 'b']"
      ]
     },
     "execution_count": 12,
     "metadata": {},
     "output_type": "execute_result"
    }
   ],
   "source": [
    "spam = ['a', 'b', 'c', 'd']\n",
    "spam[:2]"
   ]
  },
  {
   "cell_type": "markdown",
   "id": "68151dd1-1137-4f63-9e9f-08f6ef9b3ec8",
   "metadata": {},
   "source": [
    "6. What is the value of bacon.index('cat')?"
   ]
  },
  {
   "cell_type": "code",
   "execution_count": 16,
   "id": "ef26b86f-a84d-4557-84af-52249f045aed",
   "metadata": {},
   "outputs": [
    {
     "data": {
      "text/plain": [
       "1"
      ]
     },
     "execution_count": 16,
     "metadata": {},
     "output_type": "execute_result"
    }
   ],
   "source": [
    "bacon = [3.14, 'cat', 11, 'cat' , True]\n",
    "\n",
    "bacon.index('cat')"
   ]
  },
  {
   "cell_type": "markdown",
   "id": "4ff81699-4990-47c7-b63d-4d11626c1db5",
   "metadata": {},
   "source": [
    "7. How does bacon.append(99) change the look of the list value in bacon?"
   ]
  },
  {
   "cell_type": "code",
   "execution_count": 17,
   "id": "e124b40b-43d9-4250-bc77-cbaffe8a4270",
   "metadata": {},
   "outputs": [
    {
     "data": {
      "text/plain": [
       "[3.14, 'cat', 11, 'cat', True, 99]"
      ]
     },
     "execution_count": 17,
     "metadata": {},
     "output_type": "execute_result"
    }
   ],
   "source": [
    "bacon = [3.14, 'cat', 11, 'cat' , True]\n",
    "bacon.append(99)\n",
    "bacon"
   ]
  },
  {
   "cell_type": "markdown",
   "id": "797d7fd6-ada3-4a96-b55a-396c5710b383",
   "metadata": {},
   "source": [
    "8. How does bacon.remove('cat') change the look of the list in bacon?"
   ]
  },
  {
   "cell_type": "code",
   "execution_count": 18,
   "id": "535feac2-a2f4-4cfc-a607-30080562ed58",
   "metadata": {},
   "outputs": [
    {
     "data": {
      "text/plain": [
       "[3.14, 11, 'cat', True]"
      ]
     },
     "execution_count": 18,
     "metadata": {},
     "output_type": "execute_result"
    }
   ],
   "source": [
    "bacon = [3.14, 'cat', 11, 'cat' , True]\n",
    "bacon.remove('cat')\n",
    "\n",
    "bacon"
   ]
  },
  {
   "cell_type": "markdown",
   "id": "24aebf3f-72d6-44e8-b7c8-60d176398582",
   "metadata": {},
   "source": [
    "9. What are the list concatenation and list replication operators?"
   ]
  },
  {
   "cell_type": "markdown",
   "id": "3d784209-4777-4f6e-908d-2631d255fe0b",
   "metadata": {},
   "source": [
    "Answer --> The operator for list concatenation is +, while the operator for list replication is *. (This is same as for strings.)"
   ]
  },
  {
   "cell_type": "markdown",
   "id": "4233c7ba-a4ca-4734-ae69-1e2e6cba80b7",
   "metadata": {},
   "source": [
    "10. What is difference between the list methods append() and insert()?"
   ]
  },
  {
   "cell_type": "markdown",
   "id": "dc29ad71-6f38-4d72-aa08-67825dd1d16f",
   "metadata": {},
   "source": [
    "Answer --> while append() will add values only at the end of a list, insert() can add them anywhere in the list."
   ]
  },
  {
   "cell_type": "markdown",
   "id": "9b476a79-b552-4201-805d-362d64b70e4c",
   "metadata": {},
   "source": [
    "11. What are the two methods for removing items from a list?"
   ]
  },
  {
   "cell_type": "markdown",
   "id": "df94569b-9ea5-4d52-8266-bcb773592b6e",
   "metadata": {},
   "source": [
    "Answer --> The del statement and remove() list method are two ways to remove values from a list."
   ]
  },
  {
   "cell_type": "markdown",
   "id": "203805fc-df0a-44e5-ab93-bff086116953",
   "metadata": {},
   "source": [
    "12. Describe how list values and string values are identical."
   ]
  },
  {
   "cell_type": "markdown",
   "id": "33ba666e-1fbc-42ba-942d-295a7752a6b4",
   "metadata": {},
   "source": [
    "Answer --> Both list values and string values can be passed by len(), have indexes and slices, be used in for loops, be concatenated or replicated, and be used with the in and not in operators."
   ]
  },
  {
   "cell_type": "markdown",
   "id": "35822f58-d878-4dd8-8e0d-12438fac3495",
   "metadata": {},
   "source": [
    "13. What's the difference between tuples and lists?"
   ]
  },
  {
   "cell_type": "markdown",
   "id": "5bd2c7b2-72f0-44d7-b5c8-0011d9a25257",
   "metadata": {},
   "source": [
    "Answer --> Lists are mutuable; they can have values added, removed, or changed. Tuples are immutable; they cannot be changed at all. Also, tuples are written using parentheses, (and), while lists use the squared brackets, [and]."
   ]
  },
  {
   "cell_type": "markdown",
   "id": "47b1426d-b715-4fc6-a458-fe14ce43c78c",
   "metadata": {},
   "source": [
    "14. How do you type a tuple value that only contains the integer 42?"
   ]
  },
  {
   "cell_type": "code",
   "execution_count": 23,
   "id": "911ccc6a-b308-4964-b924-872c2291e819",
   "metadata": {},
   "outputs": [
    {
     "data": {
      "text/plain": [
       "tuple"
      ]
     },
     "execution_count": 23,
     "metadata": {},
     "output_type": "execute_result"
    }
   ],
   "source": [
    "a = (42,)          # trailing comma is mandatory.\n",
    "type(a)"
   ]
  },
  {
   "cell_type": "markdown",
   "id": "3d42a7f4-6b9d-4687-8116-b9de9a2988d7",
   "metadata": {},
   "source": [
    "15. How do you get a list value's tuple form? How do you get a tuple value's list form?"
   ]
  },
  {
   "cell_type": "markdown",
   "id": "af1e3fb2-1669-449d-948f-eea9c5b510e7",
   "metadata": {},
   "source": [
    "Answer --> The tuple() and list() functions, respectively"
   ]
  },
  {
   "cell_type": "markdown",
   "id": "1484b5cd-748e-4b40-8fa9-d839ac2323ae",
   "metadata": {},
   "source": [
    "16. Variables that \"contain\" list values are not necessarily lists themselves. Instead, what do they contain?"
   ]
  },
  {
   "cell_type": "markdown",
   "id": "8c4935dc-7cdd-4260-bca5-522f1967c247",
   "metadata": {},
   "source": [
    "Answer --> They contain references to list values."
   ]
  },
  {
   "cell_type": "markdown",
   "id": "3bccd852-d434-4a5b-aa60-355407791ba6",
   "metadata": {},
   "source": [
    "17. How do you distinguish between copy.copy() and copy.deepcopy()?"
   ]
  },
  {
   "cell_type": "markdown",
   "id": "3536fab0-bfb8-458a-90bc-708bdd488263",
   "metadata": {},
   "source": [
    "Answer --> The copy.copy() function will do a sallow copy of a list, while the copy.deepcopy() function will do a deep copy of a list. That is, only copy.deepcopy() will duplicate any lists inside the list."
   ]
  },
  {
   "cell_type": "code",
   "execution_count": null,
   "id": "afc61a98-e44b-49c0-b199-941bb7702b50",
   "metadata": {},
   "outputs": [],
   "source": []
  }
 ],
 "metadata": {
  "kernelspec": {
   "display_name": "Python 3 (ipykernel)",
   "language": "python",
   "name": "python3"
  },
  "language_info": {
   "codemirror_mode": {
    "name": "ipython",
    "version": 3
   },
   "file_extension": ".py",
   "mimetype": "text/x-python",
   "name": "python",
   "nbconvert_exporter": "python",
   "pygments_lexer": "ipython3",
   "version": "3.11.4"
  }
 },
 "nbformat": 4,
 "nbformat_minor": 5
}
