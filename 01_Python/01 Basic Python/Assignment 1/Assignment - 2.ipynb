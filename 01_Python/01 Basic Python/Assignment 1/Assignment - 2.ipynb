{
 "cells": [
  {
   "cell_type": "markdown",
   "id": "ea093843",
   "metadata": {},
   "source": [
    "1)What are the two values of the Boolean data type? How do you write them?\n",
    "\n",
    "**Answer -->**\n",
    "\n",
    "Two values of the boolen data types are **True** and **False**. We have to use capital T and F and with the rest of the word in lowercase. The type() of both False and True is bool. "
   ]
  },
  {
   "cell_type": "code",
   "execution_count": 1,
   "id": "c5d1ad88",
   "metadata": {},
   "outputs": [
    {
     "name": "stdout",
     "output_type": "stream",
     "text": [
      "True <class 'bool'>\n",
      "False <class 'bool'>\n"
     ]
    }
   ],
   "source": [
    "x=True\n",
    "y=False\n",
    "print(x,type(x))\n",
    "print(y,type(y))"
   ]
  },
  {
   "cell_type": "markdown",
   "id": "5ebf47e6",
   "metadata": {},
   "source": [
    "2)What are the three different types of Boolean operators?\n",
    "\n",
    "**Answer-->**\n",
    "\n",
    "The three differnt types of Boolean operators in python are: **or, and, not"
   ]
  },
  {
   "cell_type": "code",
   "execution_count": 2,
   "id": "50316d00",
   "metadata": {},
   "outputs": [
    {
     "name": "stdout",
     "output_type": "stream",
     "text": [
      "True\n",
      "True\n",
      "False\n"
     ]
    }
   ],
   "source": [
    "a=500\n",
    "b=200\n",
    "print(a>300 and b>100) # Example of boolean and\n",
    "print(a>200 or b>300) # Example of boolean or\n",
    "print(not(a>11)) # Example of boolean not"
   ]
  },
  {
   "cell_type": "markdown",
   "id": "da1e5eec",
   "metadata": {},
   "source": [
    "3)Make a list of each Boolean operator&#39;s truth tables (i.e. every possible combination of Boolean\n",
    "values for the operator and what it evaluate ).\n",
    "\n",
    "**Answer-->**\n",
    "\n",
    "- Truth Table for *and* operator\n",
    "\n",
    "True and True is True.\n",
    "\n",
    "True and False is False.\n",
    "\n",
    "False and True is False.\n",
    "\n",
    "False and False is False.\n",
    "\n",
    "- Truth Table for *or* operator\n",
    "\n",
    "True or True is True.\n",
    "\n",
    "True or False is True.\n",
    "\n",
    "False or True is True.\n",
    "\n",
    "False or False is False.\n",
    "\n",
    "- Truth Table for *not* operator\n",
    "\n",
    "not True is False.\n",
    "\n",
    "not False is True."
   ]
  },
  {
   "cell_type": "markdown",
   "id": "43eade24",
   "metadata": {},
   "source": [
    "4)What are the values of the following expressions?\n",
    "\n",
    "- (5 > 4) and (3 == 5)\n",
    "\n",
    "- not (5 > 4)\n",
    "\n",
    "- (5 > 4) or (3 == 5)\n",
    "\n",
    "- not ((5 > 4) or (3 == 5))\n",
    "\n",
    "- (True and True) and (True == False)\n",
    "\n",
    "- (not False) or (not True)"
   ]
  },
  {
   "cell_type": "code",
   "execution_count": 3,
   "id": "7b64f0f9",
   "metadata": {},
   "outputs": [
    {
     "name": "stdout",
     "output_type": "stream",
     "text": [
      "False\n",
      "False\n",
      "True\n",
      "False\n",
      "False\n",
      "True\n"
     ]
    }
   ],
   "source": [
    "print((5>4)and(3==5)) # False\n",
    "print(not(5>4)) # False\n",
    "print((5>4)or(3==5)) # True\n",
    "print(not((5>4)or(3==5))) # False\n",
    "print((True and True)and(True==False)) # False\n",
    "print((not False)or(not True)) # True"
   ]
  },
  {
   "cell_type": "markdown",
   "id": "3a598de3",
   "metadata": {},
   "source": [
    "5)What are the six comparison operators?\n",
    "\n",
    "**Answer-->**\n",
    "\n",
    "The Six Comparision Operators available in python are:\n",
    "\n",
    "== , != , < , > , <= , =>"
   ]
  },
  {
   "cell_type": "markdown",
   "id": "ab466f62",
   "metadata": {},
   "source": [
    "6)How do you tell the difference between the equal to and assignment operators?Describe a\n",
    "condition and when you would use one.\n",
    "\n",
    "**Answer-->**\n",
    "\n",
    "== is the equal to operator that compares two values and evaluates to\n",
    "a Boolean, while = is the assignment operator that stores a value in a\n",
    "variable."
   ]
  },
  {
   "cell_type": "code",
   "execution_count": 4,
   "id": "bb40eddf",
   "metadata": {},
   "outputs": [
    {
     "name": "stdout",
     "output_type": "stream",
     "text": [
      "False\n"
     ]
    }
   ],
   "source": [
    "b=10 # Assigning operator that stores 3 value in a variable a\n",
    "if b==10:#comparing values of a varible value and 3\n",
    "    print(b==3)"
   ]
  },
  {
   "cell_type": "markdown",
   "id": "75ce7eac",
   "metadata": {},
   "source": [
    "7)Identify the three blocks in this code:\n",
    "\n",
    "spam = 0\n",
    "\n",
    "if spam == 10:\n",
    "\n",
    "print('eggs')\n",
    "\n",
    "if spam > 5:\n",
    "\n",
    "print('bacon')\n",
    "\n",
    "else:\n",
    "\n",
    "print('ham')\n",
    "\n",
    "print('spam')\n",
    "\n",
    "print('spam')\n",
    "\n",
    "**Answer-->**\n",
    "\n",
    "The three blocks are everything inside the if statement and the lines\n",
    "print('bacon') and print('ham')."
   ]
  },
  {
   "cell_type": "code",
   "execution_count": 5,
   "id": "61d04082",
   "metadata": {},
   "outputs": [
    {
     "name": "stdout",
     "output_type": "stream",
     "text": [
      "ham\n",
      "spam\n",
      "spam\n"
     ]
    }
   ],
   "source": [
    "spam = 0  \n",
    "if spam == 10:  \n",
    "    print('eggs')  # block #1\n",
    "if spam > 5:  \n",
    "    print('bacon')  # block #2\n",
    "else:  \n",
    "    print('ham')  # block #3\n",
    "print('spam')  \n",
    "print('spam')"
   ]
  },
  {
   "cell_type": "markdown",
   "id": "85017f3e",
   "metadata": {},
   "source": [
    "8)Write code that prints Hello if 1 is stored in spam, prints Howdy if 2 is stored in spam, and prints\n",
    "Greetings! if anything else is stored in spam.\n",
    "\n",
    "**Answer-->**"
   ]
  },
  {
   "cell_type": "code",
   "execution_count": 6,
   "id": "a002a65e",
   "metadata": {},
   "outputs": [
    {
     "name": "stdout",
     "output_type": "stream",
     "text": [
      "Howdy\n",
      "Greetings!\n",
      "Hello\n"
     ]
    }
   ],
   "source": [
    "def spamCode(spam):\n",
    "    if spam == 1:\n",
    "        print('Hello')\n",
    "    elif spam == 2:\n",
    "        print('Howdy')\n",
    "    else:\n",
    "        print('Greetings!')\n",
    "        \n",
    "spamCode(2) \n",
    "spamCode(3)\n",
    "spamCode(1)"
   ]
  },
  {
   "cell_type": "markdown",
   "id": "bf706589",
   "metadata": {},
   "source": [
    "9)If your programme is stuck in an endless loop, what keys you’ll press?\n",
    "\n",
    "**Answer-->**\n",
    "\n",
    "Press **ctrl-C** to stop a program stuck in an infinite loop."
   ]
  },
  {
   "cell_type": "markdown",
   "id": "351a4944",
   "metadata": {},
   "source": [
    "10)How can you tell the difference between break and continue?\n",
    "\n",
    "**Answer-->**\n",
    "\n",
    "The **break** statement will move the execution outside and just after a loop.\n",
    "\n",
    "The **continue** statement will move the execution to the start of the loop.\n",
    "\n",
    "Example of break and continue is mentioned below:"
   ]
  },
  {
   "cell_type": "code",
   "execution_count": 7,
   "id": "cd5ee2e3",
   "metadata": {},
   "outputs": [
    {
     "name": "stdout",
     "output_type": "stream",
     "text": [
      "s\n",
      "t\n",
      "r\n",
      "The end\n"
     ]
    }
   ],
   "source": [
    "#Use of break statement inside the loop\n",
    "\n",
    "for val in \"string\":\n",
    "    if val == \"i\":\n",
    "        break\n",
    "    print(val)\n",
    "\n",
    "print(\"The end\")"
   ]
  },
  {
   "cell_type": "code",
   "execution_count": 8,
   "id": "e1f4a3af",
   "metadata": {},
   "outputs": [
    {
     "name": "stdout",
     "output_type": "stream",
     "text": [
      "s\n",
      "t\n",
      "r\n",
      "n\n",
      "g\n",
      "The end\n"
     ]
    }
   ],
   "source": [
    "# Program to show the use of continue statement inside loops\n",
    "\n",
    "for val in \"string\":\n",
    "    if val == \"i\":\n",
    "        continue\n",
    "    print(val)\n",
    "\n",
    "print(\"The end\")"
   ]
  },
  {
   "cell_type": "markdown",
   "id": "5466ed4f",
   "metadata": {},
   "source": [
    "11)In a for loop, what is the difference between range(10), range(0, 10), and range(0, 10, 1)?\n",
    "\n",
    "**Answer-->**\n",
    "\n",
    "The Differences are as follows:\n",
    "\n",
    "- The **range(10)** call range from 0 to 9 (but not include 10)\n",
    "- The **range (0,10)** explicitly tells the loop to start at 0\n",
    "- The **range(0,10,1)** explicitly tells the loop to increase the variable by 1 on each iteration\n"
   ]
  },
  {
   "cell_type": "code",
   "execution_count": 9,
   "id": "fb973d36",
   "metadata": {},
   "outputs": [
    {
     "name": "stdout",
     "output_type": "stream",
     "text": [
      "0 1 2 3 4 5 6 7 8 9 \n"
     ]
    }
   ],
   "source": [
    "# printing a number\n",
    "for i in range(10):\n",
    "    print(i, end=\" \")\n",
    "print()"
   ]
  },
  {
   "cell_type": "code",
   "execution_count": 10,
   "id": "cfdbbea5",
   "metadata": {},
   "outputs": [
    {
     "name": "stdout",
     "output_type": "stream",
     "text": [
      "Sum of numbers : 45\n"
     ]
    }
   ],
   "source": [
    "# performing sum of numbers\n",
    "sum = 0\n",
    "for i in range(0, 10):\n",
    "    sum = sum + i\n",
    "print(\"Sum of numbers :\", sum)"
   ]
  },
  {
   "cell_type": "code",
   "execution_count": 11,
   "id": "776dfd96",
   "metadata": {},
   "outputs": [
    {
     "name": "stdout",
     "output_type": "stream",
     "text": [
      "Sum of numbers : 45\n"
     ]
    }
   ],
   "source": [
    "# performing sum of numbers\n",
    "sum = 0\n",
    "for i in range(0, 10, 1):\n",
    "    sum = sum + i\n",
    "print(\"Sum of numbers :\", sum)"
   ]
  },
  {
   "cell_type": "markdown",
   "id": "b52919e6",
   "metadata": {},
   "source": [
    "12)Write a short program that prints the numbers 1 to 10 using a for loop. Then write an equivalent\n",
    "program that prints the numbers 1 to 10 using a while loop.\n",
    "\n",
    "**Answer-->**"
   ]
  },
  {
   "cell_type": "code",
   "execution_count": 14,
   "id": "c9f4be7b",
   "metadata": {},
   "outputs": [
    {
     "name": "stdout",
     "output_type": "stream",
     "text": [
      "1\n",
      "2\n",
      "3\n",
      "4\n",
      "5\n",
      "6\n",
      "7\n",
      "8\n",
      "9\n",
      "10\n"
     ]
    }
   ],
   "source": [
    "# for loop\n",
    "for i in range(1, 11):\n",
    "    print(i)"
   ]
  },
  {
   "cell_type": "code",
   "execution_count": 13,
   "id": "a63a0aec",
   "metadata": {},
   "outputs": [
    {
     "name": "stdout",
     "output_type": "stream",
     "text": [
      "1\n",
      "2\n",
      "3\n",
      "4\n",
      "5\n",
      "6\n",
      "7\n",
      "8\n",
      "9\n",
      "10\n"
     ]
    }
   ],
   "source": [
    "#while loop\n",
    "i = 1\n",
    "while i <= 10:\n",
    "    print(i)\n",
    "    i = i + 1"
   ]
  },
  {
   "cell_type": "markdown",
   "id": "6873f108",
   "metadata": {},
   "source": [
    "13)13. If you had a function named bacon() inside a module named spam, how would you call it after\n",
    "importing spam?\n",
    "\n",
    "**Answer**-->\n",
    "\n",
    "This function can be called with spam.bacon()"
   ]
  }
 ],
 "metadata": {
  "kernelspec": {
   "display_name": "Python 3 (ipykernel)",
   "language": "python",
   "name": "python3"
  },
  "language_info": {
   "codemirror_mode": {
    "name": "ipython",
    "version": 3
   },
   "file_extension": ".py",
   "mimetype": "text/x-python",
   "name": "python",
   "nbconvert_exporter": "python",
   "pygments_lexer": "ipython3",
   "version": "3.10.10"
  }
 },
 "nbformat": 4,
 "nbformat_minor": 5
}
