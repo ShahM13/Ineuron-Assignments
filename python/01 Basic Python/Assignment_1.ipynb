{
 "cells": [
  {
   "cell_type": "markdown",
   "metadata": {
    "id": "BUuPo_q3OjFR"
   },
   "source": [
    "**1)**  In the below elements which of them are values or an expression? eg:- values can be\n",
    "integer or string and expressions will be mathematical operators. \n",
    "\n",
    "*, 'hello', -87.8, -, /, +, 6\n",
    "\n",
    "**Answer -->**  \n",
    "The **operators** are +, -, *, and /\n",
    "\n",
    "The **values** are 'hello', -87.8, and 6"
   ]
  },
  {
   "cell_type": "markdown",
   "metadata": {
    "id": "6dEETqAaO3a2"
   },
   "source": [
    "**2)** 2. What is the difference between string and variable?\n",
    "\n",
    "**Answer -->**\n",
    "*   A **Variable** is used to store information.\n",
    "\n",
    "*   A **String** is a type of information you would store in a Variable.\n",
    "\n",
    "*   A **variable** is created the moment you first assign a value to it. Example: x = 5, y = \"John\". Here x and y are variables.\n",
    "\n",
    "*   A **String** is a group of characters or a single character usually enclosed in Double quotes **\" \"** or single quotes **' '**. Even triple quotes can be used in Python but generally used to represent multiline strings and docstrings. Example: **my_string = 'Hello', \"Good morning\"**\n",
    "\n",
    "\n",
    "\n",
    "\n",
    "\n",
    "\n",
    "\n",
    "\n",
    "\n",
    "\n"
   ]
  },
  {
   "cell_type": "markdown",
   "metadata": {
    "id": "j91Q0nAsQ9n0"
   },
   "source": [
    "**3)** Describe three different data types.\n",
    "\n",
    "**Answer -->**\n",
    "The three data types introduced in this chapter are **integers, floatingpoint numbers**, and **strings**.\n",
    "\n",
    "*   **int data type**: We can use int data type to represent whole numbers \n",
    "(integral values) Example: int_num = 160\n",
    "\n",
    "*   **float data type** : We can use float data type to represent floating point values (decimal values) Example: float_num = 6.58\n",
    "\n",
    "*   **complex data type**: Complex number is represented by complex class. It is specified as (real part) + (imaginary part)j. \n",
    "\n",
    "    Example: complex_num = 10+3.5j\n",
    "\n",
    "\n",
    "\n",
    "\n",
    "\n",
    "\n"
   ]
  },
  {
   "cell_type": "code",
   "execution_count": 1,
   "metadata": {
    "colab": {
     "base_uri": "https://localhost:8080/"
    },
    "id": "nCF5MUD_SSHW",
    "outputId": "a4096fa4-8e1c-4163-c7db-828b515f9afb"
   },
   "outputs": [
    {
     "name": "stdout",
     "output_type": "stream",
     "text": [
      "160 <class 'int'>\n",
      "6.58 <class 'float'>\n",
      "(10+3.5j) <class 'complex'>\n"
     ]
    }
   ],
   "source": [
    "# Example for int data type\n",
    "int_num = 160\n",
    "print(int_num, type(int_num))\n",
    "# Example for float data type\n",
    "float_num = 6.58\n",
    "print(float_num, type(float_num))\n",
    "# Example for Complex data type\n",
    "complex_num = 10+3.5j\n",
    "print(complex_num, type(complex_num))"
   ]
  },
  {
   "cell_type": "markdown",
   "metadata": {
    "id": "biYAhRpmSI9V"
   },
   "source": [
    "**4)** What is an expression made up of? What do all expressions do?\n",
    "\n",
    "**Answer -->**\n",
    "\n",
    "An **expression** is a combination of values and operators. All expressions\n",
    "evaluate i.e (reduce) to a single value.\n",
    "\n",
    "If we ask Python to print an expression, the interpreter evaluates the expression and displays the result. An expression is evaluated as per the precedence of its operators. So that if there is more than one operator in an expression, their precedence decides which operation will be performed first"
   ]
  },
  {
   "cell_type": "code",
   "execution_count": 4,
   "metadata": {
    "colab": {
     "base_uri": "https://localhost:8080/"
    },
    "id": "FG4wICffS-9F",
    "outputId": "0cd9d109-6b10-4eb6-b3ae-2483300f542b"
   },
   "outputs": [
    {
     "data": {
      "text/plain": [
       "8"
      ]
     },
     "execution_count": 4,
     "metadata": {},
     "output_type": "execute_result"
    }
   ],
   "source": [
    "3*4+50-54                      # Is an Expression, The Python Interpreter Evaluates it to 8"
   ]
  },
  {
   "cell_type": "markdown",
   "metadata": {
    "id": "S7YCOE9MTMuc"
   },
   "source": [
    "**5)** This assignment statements, like spam = 10. What is the difference between an expression and a statement?\n",
    "\n",
    "**Answer -->**\n",
    "\n",
    "An **expression** evaluates to a single value. A **statement** does not."
   ]
  },
  {
   "cell_type": "markdown",
   "metadata": {
    "id": "c0lKhBpOUgk_"
   },
   "source": [
    "**6)**  After running the following code, what does the variable bacon contain?\n",
    "\n",
    "bacon = 22\n",
    "\n",
    "bacon + 1\n",
    "\n",
    "**Answer -->**\n",
    "\n",
    "The bacon variable is set to **22**. The **bacon + 1** expression does not reassign the value in bacon, rather that would need an assignment statement: **bacon = bacon + 1**"
   ]
  },
  {
   "cell_type": "code",
   "execution_count": 5,
   "metadata": {
    "colab": {
     "base_uri": "https://localhost:8080/"
    },
    "id": "izuWMzF8Q8QY",
    "outputId": "55714995-617f-41ca-ab71-71a441fb8379"
   },
   "outputs": [
    {
     "name": "stdout",
     "output_type": "stream",
     "text": [
      "22\n"
     ]
    }
   ],
   "source": [
    "# Example Case1 - without reassigning\n",
    "bacon = 22\n",
    "bacon + 1\n",
    "print(bacon)"
   ]
  },
  {
   "cell_type": "code",
   "execution_count": 6,
   "metadata": {
    "colab": {
     "base_uri": "https://localhost:8080/"
    },
    "id": "HTKzeq2oVZrB",
    "outputId": "1aedba96-88e5-4695-93b3-b2940f6af219"
   },
   "outputs": [
    {
     "name": "stdout",
     "output_type": "stream",
     "text": [
      "23\n"
     ]
    }
   ],
   "source": [
    "#Example Case2 - with reassigning\n",
    "bacon = 22\n",
    "bacon = bacon + 1 \n",
    "print(bacon)"
   ]
  },
  {
   "cell_type": "markdown",
   "metadata": {
    "id": "3qk1k-l8Vfgb"
   },
   "source": [
    "**7)** What should the values of the following two terms be?\n",
    "\n",
    "'spam' + 'spamspam'\n",
    "\n",
    "'spam' * 3\n",
    "\n",
    "**Answer --> **\n",
    "\n",
    "Both expressions evaluate to the string **'spamspamspam**' .\n",
    "Where as the first expression follows String **Concatentation** and the second expression follows **String Multiplication**"
   ]
  },
  {
   "cell_type": "code",
   "execution_count": 7,
   "metadata": {
    "colab": {
     "base_uri": "https://localhost:8080/"
    },
    "id": "heYGn-HDVec6",
    "outputId": "292a8957-bf24-49ed-d13d-8fb62efa0b53"
   },
   "outputs": [
    {
     "name": "stdout",
     "output_type": "stream",
     "text": [
      "spamspamspam\n",
      "spamspamspam\n"
     ]
    }
   ],
   "source": [
    "print('spam'+'spamspam') # string concatenation\n",
    "print('spam'*3) # string multiplication"
   ]
  },
  {
   "cell_type": "markdown",
   "metadata": {
    "id": "zCEPwa0UWEPb"
   },
   "source": [
    "**8)** Why is eggs a valid variable name while 100 is invalid?\n",
    "\n",
    "**Answer -->**\n",
    "\n",
    "Variable names in python cannot begin with a **number**.The python rules for naming a variable are :-\n",
    "\n",
    "\n",
    "*   Variable name must start with a letter or the underscore character.\n",
    "*   Variable name cannot start with a number.\n",
    "*   Variable name can only contain alpha-numeric characters and underscores (A-z, 0-9, & _ ).\n",
    "*   Variable names are case-sensitive (ineuron, iNeuron and INEURON are three different variables).\n",
    "*   The reserved words(keywords) cannot be used naming the variable."
   ]
  },
  {
   "cell_type": "markdown",
   "metadata": {
    "id": "CvWb6Q5bW6ql"
   },
   "source": [
    "**9)** What three functions can be used to get the integer, floating-point number, or string version of a value?\n",
    "\n",
    "**Answer -->**\n",
    "\n",
    "The **int(), float(), and str()** functions will evaluate to the integer, floating-point number, and string versions of the value passed to them."
   ]
  },
  {
   "cell_type": "code",
   "execution_count": 9,
   "metadata": {
    "colab": {
     "base_uri": "https://localhost:8080/"
    },
    "id": "ATzhpCROWDNU",
    "outputId": "9c43a511-e0f5-4b79-ac8e-f5421ac93972"
   },
   "outputs": [
    {
     "name": "stdout",
     "output_type": "stream",
     "text": [
      "int(10.0) ->  10\n",
      "float(64) ->  64.0\n",
      "str(256) ->  256\n"
     ]
    }
   ],
   "source": [
    "# Examples:\n",
    "print('int(10.0) -> ',int(10.0)) # int() function converts given input to int\n",
    "print('float(64) -> ',float(64)) # float() function converts given input to float\n",
    "print('str(256) -> ',str(256)) # str() function converts given input to string"
   ]
  },
  {
   "cell_type": "markdown",
   "metadata": {
    "id": "MiU0FthmXbD5"
   },
   "source": [
    "**10)** Why does this expression cause an error? how can you fix it?\n",
    "'I have eaten' + 99 + 'burritos'\n",
    "\n",
    "**Answer -->**\n",
    "\n",
    "The expression causes an error because 99 is an integer, and only\n",
    "strings can be concatenated to other strings with the + operator.\n",
    "\n",
    "The correct way is **'I have eaten' + str(99) + ' burritos'.**"
   ]
  },
  {
   "cell_type": "code",
   "execution_count": 11,
   "metadata": {
    "colab": {
     "base_uri": "https://localhost:8080/"
    },
    "id": "3R3q3HU0XVgA",
    "outputId": "a8c7061c-1d92-4d59-eca8-db5bcfc9d9b3"
   },
   "outputs": [
    {
     "name": "stdout",
     "output_type": "stream",
     "text": [
      "I have eaten 99 burritos\n"
     ]
    }
   ],
   "source": [
    "print('I have eaten '+str(99)+' burritos')"
   ]
  }
 ],
 "metadata": {
  "colab": {
   "provenance": []
  },
  "kernelspec": {
   "display_name": "Python 3 (ipykernel)",
   "language": "python",
   "name": "python3"
  },
  "language_info": {
   "codemirror_mode": {
    "name": "ipython",
    "version": 3
   },
   "file_extension": ".py",
   "mimetype": "text/x-python",
   "name": "python",
   "nbconvert_exporter": "python",
   "pygments_lexer": "ipython3",
   "version": "3.10.9"
  }
 },
 "nbformat": 4,
 "nbformat_minor": 1
}
